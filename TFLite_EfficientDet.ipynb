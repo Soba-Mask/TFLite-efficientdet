{
  "nbformat": 4,
  "nbformat_minor": 0,
  "metadata": {
    "colab": {
      "name": "TFLite-EfficientDet.ipynb",
      "provenance": [],
      "collapsed_sections": [],
      "authorship_tag": "ABX9TyNdynrGR9LnbnRZO8BrxUXB",
      "include_colab_link": true
    },
    "kernelspec": {
      "name": "python3",
      "display_name": "Python 3"
    },
    "language_info": {
      "name": "python"
    }
  },
  "cells": [
    {
      "cell_type": "markdown",
      "metadata": {
        "id": "view-in-github",
        "colab_type": "text"
      },
      "source": [
        "<a href=\"https://colab.research.google.com/github/Soba-Mask/TFLite-efficientdet/blob/main/TFLite_EfficientDet.ipynb\" target=\"_parent\"><img src=\"https://colab.research.google.com/assets/colab-badge.svg\" alt=\"Open In Colab\"/></a>"
      ]
    },
    {
      "cell_type": "code",
      "execution_count": 2,
      "metadata": {
        "colab": {
          "base_uri": "https://localhost:8080/"
        },
        "id": "dGJ0Cv9k13Xn",
        "outputId": "15500122-d617-4e47-8fcc-571fb17a9997"
      },
      "outputs": [
        {
          "output_type": "stream",
          "name": "stdout",
          "text": [
            "2.8.0\n"
          ]
        }
      ],
      "source": [
        "import tensorflow as tf\n",
        "print(tf.__version__)"
      ]
    },
    {
      "cell_type": "markdown",
      "source": [
        "Download the model"
      ],
      "metadata": {
        "id": "_Alp6Tp4956j"
      }
    },
    {
      "cell_type": "code",
      "source": [
        "!git clone https://github.com/Soba-Mask/TFLite-efficientdet.git"
      ],
      "metadata": {
        "id": "gipvDRtH99OO",
        "outputId": "df14e038-4d4e-44d1-844c-61ea042754cc",
        "colab": {
          "base_uri": "https://localhost:8080/"
        }
      },
      "execution_count": 1,
      "outputs": [
        {
          "output_type": "stream",
          "name": "stdout",
          "text": [
            "Cloning into 'TFLite-efficientdet'...\n",
            "remote: Enumerating objects: 9, done.\u001b[K\n",
            "remote: Counting objects: 100% (9/9), done.\u001b[K\n",
            "remote: Compressing objects: 100% (8/8), done.\u001b[K\n",
            "remote: Total 9 (delta 1), reused 5 (delta 0), pack-reused 0\u001b[K\n",
            "Unpacking objects: 100% (9/9), done.\n"
          ]
        }
      ]
    },
    {
      "cell_type": "markdown",
      "source": [
        "Run inference with num_threads=1"
      ],
      "metadata": {
        "id": "i2F1CI3_2Rzm"
      }
    },
    {
      "cell_type": "code",
      "source": [
        "%%bash\n",
        "cd TFLite-efficientdet/\n",
        "python demo_tflite.py 1"
      ],
      "metadata": {
        "colab": {
          "base_uri": "https://localhost:8080/"
        },
        "id": "rmISZKjI2Yka",
        "outputId": "b698355f-f4b0-4ceb-dae7-81f30ca45b12"
      },
      "execution_count": 4,
      "outputs": [
        {
          "output_type": "stream",
          "name": "stdout",
          "text": [
            "[{'bounding_box': array([0.03634   , 0.16444701, 0.99371195, 0.78906894], dtype=float32), 'class_id': 1.0, 'score': 0.703125}, {'bounding_box': array([0.00143668, 0.22852634, 0.8992057 , 0.47540623], dtype=float32), 'class_id': 1.0, 'score': 0.6875}, {'bounding_box': array([0.46674758, 0.82076466, 1.042562  , 0.9846126 ], dtype=float32), 'class_id': 1.0, 'score': 0.6328125}, {'bounding_box': array([-0.01516247,  0.22502708,  1.0412507 ,  0.54143524], dtype=float32), 'class_id': 0.0, 'score': 0.59765625}, {'bounding_box': array([-0.05422914,  0.25673673,  1.0870984 ,  0.7988932 ], dtype=float32), 'class_id': 0.0, 'score': 0.59765625}, {'bounding_box': array([-0.09049654,  0.49012125,  1.0904965 ,  0.9169613 ], dtype=float32), 'class_id': 1.0, 'score': 0.421875}, {'bounding_box': array([0.54165643, 0.6360628 , 0.9419227 , 0.9792904 ], dtype=float32), 'class_id': 1.0, 'score': 0.421875}, {'bounding_box': array([0.46674758, 0.82076466, 1.042562  , 0.9846126 ], dtype=float32), 'class_id': 0.0, 'score': 0.40234375}, {'bounding_box': array([0.18799314, 0.02530569, 0.8793888 , 1.0420763 ], dtype=float32), 'class_id': 1.0, 'score': 0.3671875}, {'bounding_box': array([-0.05960798,  0.6126696 ,  1.0335196 ,  0.94571483], dtype=float32), 'class_id': 0.0, 'score': 0.3671875}, {'bounding_box': array([0.06257483, 0.17665143, 0.5709784 , 0.5083512 ], dtype=float32), 'class_id': 1.0, 'score': 0.3125}, {'bounding_box': array([0.5273802, 0.4102384, 0.9415574, 0.8315512], dtype=float32), 'class_id': 1.0, 'score': 0.3125}, {'bounding_box': array([0.54165643, 0.6360628 , 0.9419227 , 0.9792904 ], dtype=float32), 'class_id': 0.0, 'score': 0.3125}]\n"
          ]
        },
        {
          "output_type": "stream",
          "name": "stderr",
          "text": [
            "INFO: Created TensorFlow Lite XNNPACK delegate for CPU.\n"
          ]
        }
      ]
    },
    {
      "cell_type": "markdown",
      "source": [
        "Run again with num_threads=2"
      ],
      "metadata": {
        "id": "o9axCPtG3bih"
      }
    },
    {
      "cell_type": "code",
      "source": [
        "%%bash\n",
        "cd TFLite-efficientdet/\n",
        "python demo_tflite.py 2"
      ],
      "metadata": {
        "colab": {
          "base_uri": "https://localhost:8080/"
        },
        "id": "5mkHAExa3ZQ0",
        "outputId": "752d0014-a9a0-469d-91cf-f8704b738d6d"
      },
      "execution_count": 7,
      "outputs": [
        {
          "output_type": "stream",
          "name": "stdout",
          "text": [
            "[{'bounding_box': array([0.03634   , 0.16444701, 0.99371195, 0.78906894], dtype=float32), 'class_id': 1.0, 'score': 0.703125}, {'bounding_box': array([0.00143668, 0.22852634, 0.8992057 , 0.47540623], dtype=float32), 'class_id': 1.0, 'score': 0.6875}, {'bounding_box': array([0.46674758, 0.82076466, 1.042562  , 0.9846126 ], dtype=float32), 'class_id': 1.0, 'score': 0.6328125}, {'bounding_box': array([-0.01516247,  0.22502708,  1.0412507 ,  0.54143524], dtype=float32), 'class_id': 0.0, 'score': 0.59765625}, {'bounding_box': array([-0.05422914,  0.25673673,  1.0870984 ,  0.7988932 ], dtype=float32), 'class_id': 0.0, 'score': 0.59765625}, {'bounding_box': array([-0.09049654,  0.49012125,  1.0904965 ,  0.9169613 ], dtype=float32), 'class_id': 1.0, 'score': 0.421875}, {'bounding_box': array([0.54165643, 0.6360628 , 0.9419227 , 0.9792904 ], dtype=float32), 'class_id': 1.0, 'score': 0.421875}, {'bounding_box': array([0.46674758, 0.82076466, 1.042562  , 0.9846126 ], dtype=float32), 'class_id': 0.0, 'score': 0.40234375}, {'bounding_box': array([0.18799314, 0.02530569, 0.8793888 , 1.0420763 ], dtype=float32), 'class_id': 1.0, 'score': 0.3671875}, {'bounding_box': array([-0.05960798,  0.6126696 ,  1.0335196 ,  0.94571483], dtype=float32), 'class_id': 0.0, 'score': 0.3671875}, {'bounding_box': array([0.06257483, 0.17665143, 0.5709784 , 0.5083512 ], dtype=float32), 'class_id': 1.0, 'score': 0.3125}, {'bounding_box': array([0.5273802, 0.4102384, 0.9415574, 0.8315512], dtype=float32), 'class_id': 1.0, 'score': 0.3125}, {'bounding_box': array([0.54165643, 0.6360628 , 0.9419227 , 0.9792904 ], dtype=float32), 'class_id': 0.0, 'score': 0.3125}]\n"
          ]
        },
        {
          "output_type": "stream",
          "name": "stderr",
          "text": [
            "INFO: Created TensorFlow Lite XNNPACK delegate for CPU.\n"
          ]
        }
      ]
    }
  ]
}